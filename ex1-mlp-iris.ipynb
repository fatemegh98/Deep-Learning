{
  "nbformat": 4,
  "nbformat_minor": 0,
  "metadata": {
    "kernelspec": {
      "display_name": "tensorflow",
      "language": "python",
      "name": "tensorflow"
    },
    "language_info": {
      "codemirror_mode": {
        "name": "ipython",
        "version": 3
      },
      "file_extension": ".py",
      "mimetype": "text/x-python",
      "name": "python",
      "nbconvert_exporter": "python",
      "pygments_lexer": "ipython3",
      "version": "3.6.8"
    },
    "colab": {
      "name": "ex1-mlp-iris.ipynb",
      "provenance": []
    }
  },
  "cells": [
    {
      "cell_type": "markdown",
      "metadata": {
        "id": "gvjDkKtzHgth"
      },
      "source": [
        "<center><div style=\"direction:rtl;font-family:B Lotus, B Nazanin, Tahoma\">به نام خدا</div></center>\n",
        "\n",
        "<h1><center><div style=\"direction:rtl;font-family:B Lotus, B Nazanin, Tahoma\">تمرین عملی 1: طبقه بندی با شبکه های تمام متصل روی مجموعه داده IRIS</div></center></h1>"
      ]
    },
    {
      "cell_type": "markdown",
      "metadata": {
        "id": "KGpMO3v4Hgtq"
      },
      "source": [
        "## <div style=\"direction:rtl;text-align:right;font-family:B Lotus, B Nazanin, Tahoma\">صورت مساله</div>\n",
        "\n",
        "\n",
        "<div style=\"direction:rtl;text-align:right;font-family:Tahoma\">\n",
        "در اولین جلسه کارگاه طبقه بندی با شبکه های تمام متصل را دیدیم.\n",
        "<br>\n",
        "توصیه می‌شود حتما نوت بوک‌های زیر را قبل از این تمرین مرور کنید:\n",
        "</div>\n",
        "\n",
        "[04_a Gentle Introduction to Keras - Simple neural network(mlp).ipynb](https://nbviewer.jupyter.org/github/alireza-akhavan/SRU-deeplearning-workshop/blob/master/04_a%20Gentle%20Introduction%20to%20Keras%20-%20Simple%20neural%20network%28mlp%29.ipynb)\n",
        "\n",
        "[05_Dropout.ipynb](https://nbviewer.jupyter.org/github/alireza-akhavan/SRU-deeplearning-workshop/blob/master/05_Dropout.ipynb)\n",
        "\n",
        "<div style=\"direction:rtl;text-align:right;font-family:Tahoma\">\n",
        "در این جلسه با داده های تصویری آشنا شدیم. اما در این تمرین برای اینکه بدانیم کاربرد این مباحث در مسائل غیر تصویری نیز هست  از مجموعه داده ی ساختار یافتهiris  شامل 4 ویژگی برای طول و عرض کاسبرگ و گلبرگ استفاده خواهیم کرد که بتوانیم بر اساس این ویژگی ها نوع گل را از 3 کلاس متفاوت تشخیص دهیم.\n",
        "</div>"
      ]
    },
    {
      "cell_type": "markdown",
      "metadata": {
        "id": "ECDcyPWnHgtr"
      },
      "source": [
        "## <div style=\"direction:rtl;text-align:right;font-family:B Lotus, B Nazanin, Tahoma\">لود کتابخانه های مورد نیاز </div>\n",
        "<div style=\"direction:rtl;text-align:right;font-family:Tahoma\">\n",
        "کتابخانه های مورد نیاز این تمرین لود شده اند\n",
        "<br>\n",
        "در صورت نیاز میتوانید کتابخانه های بیشتری لود کنید:\n",
        "</div>"
      ]
    },
    {
      "cell_type": "code",
      "metadata": {
        "id": "IxdmJh-hHgtr"
      },
      "source": [
        "import numpy as np\n",
        "import keras\n",
        "from sklearn.datasets import load_iris\n",
        "from sklearn.model_selection import train_test_split\n",
        "from keras.models import Sequential\n",
        "from keras.layers import Dense, Dropout\n",
        "from keras.optimizers import Adam"
      ],
      "execution_count": 4,
      "outputs": []
    },
    {
      "cell_type": "markdown",
      "metadata": {
        "id": "z5iHKcjrHgts"
      },
      "source": [
        "<div style=\"direction:rtl;text-align:right;font-family:Tahoma\">\n",
        "در این تمرین میخواهیم از مجموعه داده iris استفاده کنیم.\n",
        "<br>\n",
        "توضیحات این مجموعه داده در سایت آن موجود است:\n",
        "</div>\n",
        "\n",
        "https://archive.ics.uci.edu/ml/datasets/iris\n",
        "\n",
        "\n",
        "<div style=\"direction:rtl;text-align:right;font-family:Tahoma\">\n",
        "ویژگی ها و کلاس های این مجموعه داده به شرح زیر است:\n",
        "</div>\n",
        "\n",
        "Attribute Information:\n",
        "\n",
        "1. sepal length in cm\n",
        "2. sepal width in cm\n",
        "3. petal length in cm\n",
        "4. petal width in cm\n",
        "\n",
        "class:\n",
        "\n",
        "    Iris Setosa\n",
        "    Iris Versicolour\n",
        "    Iris Virginica\n",
        "\n",
        "<div style=\"direction:rtl;text-align:right;font-family:Tahoma\">\n",
        "این دیتاست در کتابخانه sklearn موجود است\n",
        "<br>\n",
        "در قطعه کد زیر ویژگی ها را در x و برچسب یا labelهای متناظر را در y لود شده است.\n",
        "</div>"
      ]
    },
    {
      "cell_type": "code",
      "metadata": {
        "id": "X1JNmdMrHgtt"
      },
      "source": [
        "iris_data = load_iris() # load the iris dataset\n",
        "x = iris_data.data\n",
        "y = iris_data.target.reshape(-1, 1) # Convert data to a single column"
      ],
      "execution_count": 5,
      "outputs": []
    },
    {
      "cell_type": "markdown",
      "metadata": {
        "id": "n4q5fP0jHgtt"
      },
      "source": [
        "# <div style=\"direction:rtl;text-align:right;font-family:B Lotus, B Nazanin, Tahoma\">سوال 1:</div>\n",
        "<div style=\"direction:rtl;text-align:right;font-family:Tahoma\">\n",
        "برچسب یا label های ما در حال حاضر عددی است.\n",
        "<br>\n",
        "این اعداد 0 تا 2 هستند و به عبارتی 3 حالت مختلف دارند.\n",
        "<br>\n",
        "این برچسب ها را به فرمت one-hot تبدیل کنید و خروجی را مجدد در y بریزید.\n",
        "\n",
        "<br>\n",
        "<b>راهنمایی: </b>\n",
        "از تابع keras.utils.to_categorical استفاده کنید.\n",
        "</div>"
      ]
    },
    {
      "cell_type": "code",
      "metadata": {
        "id": "IZkWDxdtHgtu"
      },
      "source": [
        "y =  keras.utils.to_categorical(y, num_classes=3)"
      ],
      "execution_count": 6,
      "outputs": []
    },
    {
      "cell_type": "markdown",
      "metadata": {
        "id": "SOe0YC5iHgtu"
      },
      "source": [
        "<div style=\"direction:rtl;text-align:right;font-family:Tahoma\">\n",
        "در زیر داده ها  به داده های test و train تقسیم شده است:\n",
        "</div>"
      ]
    },
    {
      "cell_type": "code",
      "metadata": {
        "id": "C7uQNUniHgtu"
      },
      "source": [
        "# Split the data for training and testing\n",
        "train_x, test_x, train_y, test_y = train_test_split(x, y, test_size=0.20)"
      ],
      "execution_count": 7,
      "outputs": []
    },
    {
      "cell_type": "markdown",
      "metadata": {
        "id": "OdPrhY9DHgtv"
      },
      "source": [
        "# <div style=\"direction:rtl;text-align:right;font-family:B Lotus, B Nazanin, Tahoma\">سوال 2:</div>\n",
        "<div style=\"direction:rtl;text-align:right;font-family:Tahoma\">\n",
        "یک شبکه با دو hidden-layer در هر لایه 10 نوران و تابع فعالیت relu بسازید. یک لایه Dropout با نرخ 0.5 در لایه آخر ماقبل softmax نیز اضافه کنید.\n",
        "</div>"
      ]
    },
    {
      "cell_type": "code",
      "metadata": {
        "id": "jZlWI-GgHgtv"
      },
      "source": [
        "# Build the model\n",
        "model = Sequential()\n",
        "model.add(Dense(10, activation='relu', input_dim=4))\n",
        "model.add(Dense(10, activation='relu'))\n",
        "model.add(Dropout(0.5))\n",
        "model.add(Dense(3, activation='softmax'))"
      ],
      "execution_count": 16,
      "outputs": []
    },
    {
      "cell_type": "code",
      "metadata": {
        "colab": {
          "base_uri": "https://localhost:8080/"
        },
        "id": "7y56SWbZHgtv",
        "outputId": "e3e7ff01-4d49-42cd-ca0a-a2d193e73900"
      },
      "source": [
        "model.summary()"
      ],
      "execution_count": 17,
      "outputs": [
        {
          "output_type": "stream",
          "text": [
            "Model: \"sequential_2\"\n",
            "_________________________________________________________________\n",
            "Layer (type)                 Output Shape              Param #   \n",
            "=================================================================\n",
            "dense_6 (Dense)              (None, 10)                50        \n",
            "_________________________________________________________________\n",
            "dense_7 (Dense)              (None, 10)                110       \n",
            "_________________________________________________________________\n",
            "dropout_2 (Dropout)          (None, 10)                0         \n",
            "_________________________________________________________________\n",
            "dense_8 (Dense)              (None, 3)                 33        \n",
            "=================================================================\n",
            "Total params: 193\n",
            "Trainable params: 193\n",
            "Non-trainable params: 0\n",
            "_________________________________________________________________\n"
          ],
          "name": "stdout"
        }
      ]
    },
    {
      "cell_type": "markdown",
      "metadata": {
        "id": "Xo3NUfrzHgtv"
      },
      "source": [
        "<div style=\"direction:rtl;text-align:right;font-family:Tahoma\">در زیر مدل کامپایل شده است.</div>"
      ]
    },
    {
      "cell_type": "code",
      "metadata": {
        "id": "NqjuI3a6Hgtw"
      },
      "source": [
        "# Adam optimizer with learning rate of 0.001\n",
        "optimizer = Adam(lr=0.001)\n",
        "model.compile(optimizer, loss='categorical_crossentropy', metrics=['accuracy'])"
      ],
      "execution_count": 18,
      "outputs": []
    },
    {
      "cell_type": "markdown",
      "metadata": {
        "id": "h-fOJ-VnHgtw"
      },
      "source": [
        "# <div style=\"direction:rtl;text-align:right;font-family:B Lotus, B Nazanin, Tahoma\">سوال 3:</div>\n",
        "<div style=\"direction:rtl;text-align:right;font-family:Tahoma\">\n",
        "مدل را با  batch_size=5 و تعداد 200 ایپاک آموزش دهید.\n",
        "<br>\n",
        "<b>راهنمایی: </b>\n",
        "از تابع model.fit استفاده کنید.\n",
        "</div>"
      ]
    },
    {
      "cell_type": "code",
      "metadata": {
        "colab": {
          "base_uri": "https://localhost:8080/"
        },
        "id": "kkkcbQjeHgtw",
        "outputId": "9db86f87-17af-41a9-b4c3-6693bbedad2d"
      },
      "source": [
        "# Train the model\n",
        "model.fit(train_x, train_y,\n",
        "              epochs=200,\n",
        "              batch_size=5, verbose=1)"
      ],
      "execution_count": 25,
      "outputs": [
        {
          "output_type": "stream",
          "text": [
            "Epoch 1/200\n",
            "24/24 [==============================] - 0s 1ms/step - loss: 0.2216 - accuracy: 0.9333\n",
            "Epoch 2/200\n",
            "24/24 [==============================] - 0s 1ms/step - loss: 0.3020 - accuracy: 0.9083\n",
            "Epoch 3/200\n",
            "24/24 [==============================] - 0s 1ms/step - loss: 0.3008 - accuracy: 0.9250\n",
            "Epoch 4/200\n",
            "24/24 [==============================] - 0s 1ms/step - loss: 0.2983 - accuracy: 0.9167\n",
            "Epoch 5/200\n",
            "24/24 [==============================] - 0s 1ms/step - loss: 0.3202 - accuracy: 0.8833\n",
            "Epoch 6/200\n",
            "24/24 [==============================] - 0s 1ms/step - loss: 0.2562 - accuracy: 0.9167\n",
            "Epoch 7/200\n",
            "24/24 [==============================] - 0s 1ms/step - loss: 0.3777 - accuracy: 0.8583\n",
            "Epoch 8/200\n",
            "24/24 [==============================] - 0s 1ms/step - loss: 0.2736 - accuracy: 0.9000\n",
            "Epoch 9/200\n",
            "24/24 [==============================] - 0s 1ms/step - loss: 0.3685 - accuracy: 0.8750\n",
            "Epoch 10/200\n",
            "24/24 [==============================] - 0s 1ms/step - loss: 0.3048 - accuracy: 0.8833\n",
            "Epoch 11/200\n",
            "24/24 [==============================] - 0s 944us/step - loss: 0.2288 - accuracy: 0.9417\n",
            "Epoch 12/200\n",
            "24/24 [==============================] - 0s 1ms/step - loss: 0.2840 - accuracy: 0.9083\n",
            "Epoch 13/200\n",
            "24/24 [==============================] - 0s 1ms/step - loss: 0.2359 - accuracy: 0.9333\n",
            "Epoch 14/200\n",
            "24/24 [==============================] - 0s 1ms/step - loss: 0.3086 - accuracy: 0.9083\n",
            "Epoch 15/200\n",
            "24/24 [==============================] - 0s 1ms/step - loss: 0.2525 - accuracy: 0.9250\n",
            "Epoch 16/200\n",
            "24/24 [==============================] - 0s 1ms/step - loss: 0.3116 - accuracy: 0.8917\n",
            "Epoch 17/200\n",
            "24/24 [==============================] - 0s 1ms/step - loss: 0.2696 - accuracy: 0.9167\n",
            "Epoch 18/200\n",
            "24/24 [==============================] - 0s 1ms/step - loss: 0.1482 - accuracy: 0.9583\n",
            "Epoch 19/200\n",
            "24/24 [==============================] - 0s 1ms/step - loss: 0.3011 - accuracy: 0.9083\n",
            "Epoch 20/200\n",
            "24/24 [==============================] - 0s 1ms/step - loss: 0.3379 - accuracy: 0.8833\n",
            "Epoch 21/200\n",
            "24/24 [==============================] - 0s 1ms/step - loss: 0.2995 - accuracy: 0.8750\n",
            "Epoch 22/200\n",
            "24/24 [==============================] - 0s 1ms/step - loss: 0.2351 - accuracy: 0.9333\n",
            "Epoch 23/200\n",
            "24/24 [==============================] - 0s 1ms/step - loss: 0.2917 - accuracy: 0.9000\n",
            "Epoch 24/200\n",
            "24/24 [==============================] - 0s 1ms/step - loss: 0.3134 - accuracy: 0.8917\n",
            "Epoch 25/200\n",
            "24/24 [==============================] - 0s 1ms/step - loss: 0.2634 - accuracy: 0.9250\n",
            "Epoch 26/200\n",
            "24/24 [==============================] - 0s 1ms/step - loss: 0.2512 - accuracy: 0.9083\n",
            "Epoch 27/200\n",
            "24/24 [==============================] - 0s 1ms/step - loss: 0.3063 - accuracy: 0.9000\n",
            "Epoch 28/200\n",
            "24/24 [==============================] - 0s 1ms/step - loss: 0.3538 - accuracy: 0.8583\n",
            "Epoch 29/200\n",
            "24/24 [==============================] - 0s 1ms/step - loss: 0.2246 - accuracy: 0.9250\n",
            "Epoch 30/200\n",
            "24/24 [==============================] - 0s 1ms/step - loss: 0.4050 - accuracy: 0.8417\n",
            "Epoch 31/200\n",
            "24/24 [==============================] - 0s 1ms/step - loss: 0.2670 - accuracy: 0.8833\n",
            "Epoch 32/200\n",
            "24/24 [==============================] - 0s 1ms/step - loss: 0.2415 - accuracy: 0.9333\n",
            "Epoch 33/200\n",
            "24/24 [==============================] - 0s 1ms/step - loss: 0.1893 - accuracy: 0.9583\n",
            "Epoch 34/200\n",
            "24/24 [==============================] - 0s 1ms/step - loss: 0.3198 - accuracy: 0.9083\n",
            "Epoch 35/200\n",
            "24/24 [==============================] - 0s 1ms/step - loss: 0.3321 - accuracy: 0.8833\n",
            "Epoch 36/200\n",
            "24/24 [==============================] - 0s 1ms/step - loss: 0.2192 - accuracy: 0.9250\n",
            "Epoch 37/200\n",
            "24/24 [==============================] - 0s 1ms/step - loss: 0.2088 - accuracy: 0.9417\n",
            "Epoch 38/200\n",
            "24/24 [==============================] - 0s 1ms/step - loss: 0.2634 - accuracy: 0.9167\n",
            "Epoch 39/200\n",
            "24/24 [==============================] - 0s 1ms/step - loss: 0.3391 - accuracy: 0.8667\n",
            "Epoch 40/200\n",
            "24/24 [==============================] - 0s 1ms/step - loss: 0.2590 - accuracy: 0.9333\n",
            "Epoch 41/200\n",
            "24/24 [==============================] - 0s 1ms/step - loss: 0.3371 - accuracy: 0.8833\n",
            "Epoch 42/200\n",
            "24/24 [==============================] - 0s 1ms/step - loss: 0.3048 - accuracy: 0.8917\n",
            "Epoch 43/200\n",
            "24/24 [==============================] - 0s 1ms/step - loss: 0.1987 - accuracy: 0.9417\n",
            "Epoch 44/200\n",
            "24/24 [==============================] - 0s 1ms/step - loss: 0.2563 - accuracy: 0.9083\n",
            "Epoch 45/200\n",
            "24/24 [==============================] - 0s 1ms/step - loss: 0.2958 - accuracy: 0.8917\n",
            "Epoch 46/200\n",
            "24/24 [==============================] - 0s 1ms/step - loss: 0.3737 - accuracy: 0.8500\n",
            "Epoch 47/200\n",
            "24/24 [==============================] - 0s 2ms/step - loss: 0.2680 - accuracy: 0.9250\n",
            "Epoch 48/200\n",
            "24/24 [==============================] - 0s 1ms/step - loss: 0.1721 - accuracy: 0.9500\n",
            "Epoch 49/200\n",
            "24/24 [==============================] - 0s 1ms/step - loss: 0.3060 - accuracy: 0.9083\n",
            "Epoch 50/200\n",
            "24/24 [==============================] - 0s 1ms/step - loss: 0.2723 - accuracy: 0.9000\n",
            "Epoch 51/200\n",
            "24/24 [==============================] - 0s 1ms/step - loss: 0.2078 - accuracy: 0.9333\n",
            "Epoch 52/200\n",
            "24/24 [==============================] - 0s 2ms/step - loss: 0.2336 - accuracy: 0.9167\n",
            "Epoch 53/200\n",
            "24/24 [==============================] - 0s 1ms/step - loss: 0.2095 - accuracy: 0.9417\n",
            "Epoch 54/200\n",
            "24/24 [==============================] - 0s 1ms/step - loss: 0.3011 - accuracy: 0.8750\n",
            "Epoch 55/200\n",
            "24/24 [==============================] - 0s 991us/step - loss: 0.2534 - accuracy: 0.9083\n",
            "Epoch 56/200\n",
            "24/24 [==============================] - 0s 2ms/step - loss: 0.2054 - accuracy: 0.9250\n",
            "Epoch 57/200\n",
            "24/24 [==============================] - 0s 1ms/step - loss: 0.3505 - accuracy: 0.8917\n",
            "Epoch 58/200\n",
            "24/24 [==============================] - 0s 1ms/step - loss: 0.2345 - accuracy: 0.9500\n",
            "Epoch 59/200\n",
            "24/24 [==============================] - 0s 1ms/step - loss: 0.2529 - accuracy: 0.9083\n",
            "Epoch 60/200\n",
            "24/24 [==============================] - 0s 1ms/step - loss: 0.2570 - accuracy: 0.9167\n",
            "Epoch 61/200\n",
            "24/24 [==============================] - 0s 1ms/step - loss: 0.2613 - accuracy: 0.9250\n",
            "Epoch 62/200\n",
            "24/24 [==============================] - 0s 1ms/step - loss: 0.1916 - accuracy: 0.9333\n",
            "Epoch 63/200\n",
            "24/24 [==============================] - 0s 1ms/step - loss: 0.3420 - accuracy: 0.8667\n",
            "Epoch 64/200\n",
            "24/24 [==============================] - 0s 1ms/step - loss: 0.2905 - accuracy: 0.9000\n",
            "Epoch 65/200\n",
            "24/24 [==============================] - 0s 1ms/step - loss: 0.3215 - accuracy: 0.9000\n",
            "Epoch 66/200\n",
            "24/24 [==============================] - 0s 1ms/step - loss: 0.2625 - accuracy: 0.9167\n",
            "Epoch 67/200\n",
            "24/24 [==============================] - 0s 1ms/step - loss: 0.3381 - accuracy: 0.8750\n",
            "Epoch 68/200\n",
            "24/24 [==============================] - 0s 1ms/step - loss: 0.2486 - accuracy: 0.9083\n",
            "Epoch 69/200\n",
            "24/24 [==============================] - 0s 1ms/step - loss: 0.2337 - accuracy: 0.9167\n",
            "Epoch 70/200\n",
            "24/24 [==============================] - 0s 1ms/step - loss: 0.2994 - accuracy: 0.9250\n",
            "Epoch 71/200\n",
            "24/24 [==============================] - 0s 1ms/step - loss: 0.2439 - accuracy: 0.9250\n",
            "Epoch 72/200\n",
            "24/24 [==============================] - 0s 1ms/step - loss: 0.3033 - accuracy: 0.8833\n",
            "Epoch 73/200\n",
            "24/24 [==============================] - 0s 1ms/step - loss: 0.2439 - accuracy: 0.9000\n",
            "Epoch 74/200\n",
            "24/24 [==============================] - 0s 1ms/step - loss: 0.2367 - accuracy: 0.9333\n",
            "Epoch 75/200\n",
            "24/24 [==============================] - 0s 1ms/step - loss: 0.2387 - accuracy: 0.9333\n",
            "Epoch 76/200\n",
            "24/24 [==============================] - 0s 1ms/step - loss: 0.2126 - accuracy: 0.9167\n",
            "Epoch 77/200\n",
            "24/24 [==============================] - 0s 1ms/step - loss: 0.2593 - accuracy: 0.9083\n",
            "Epoch 78/200\n",
            "24/24 [==============================] - 0s 1ms/step - loss: 0.3212 - accuracy: 0.8750\n",
            "Epoch 79/200\n",
            "24/24 [==============================] - 0s 1ms/step - loss: 0.2565 - accuracy: 0.9333\n",
            "Epoch 80/200\n",
            "24/24 [==============================] - 0s 1ms/step - loss: 0.2536 - accuracy: 0.9333\n",
            "Epoch 81/200\n",
            "24/24 [==============================] - 0s 1ms/step - loss: 0.3495 - accuracy: 0.8667\n",
            "Epoch 82/200\n",
            "24/24 [==============================] - 0s 1ms/step - loss: 0.2490 - accuracy: 0.9083\n",
            "Epoch 83/200\n",
            "24/24 [==============================] - 0s 1ms/step - loss: 0.3388 - accuracy: 0.8833\n",
            "Epoch 84/200\n",
            "24/24 [==============================] - 0s 1ms/step - loss: 0.2435 - accuracy: 0.9250\n",
            "Epoch 85/200\n",
            "24/24 [==============================] - 0s 1ms/step - loss: 0.3013 - accuracy: 0.8833\n",
            "Epoch 86/200\n",
            "24/24 [==============================] - 0s 1ms/step - loss: 0.2344 - accuracy: 0.9250\n",
            "Epoch 87/200\n",
            "24/24 [==============================] - 0s 1ms/step - loss: 0.1819 - accuracy: 0.9417\n",
            "Epoch 88/200\n",
            "24/24 [==============================] - 0s 1ms/step - loss: 0.3236 - accuracy: 0.9000\n",
            "Epoch 89/200\n",
            "24/24 [==============================] - 0s 1ms/step - loss: 0.2419 - accuracy: 0.9000\n",
            "Epoch 90/200\n",
            "24/24 [==============================] - 0s 1ms/step - loss: 0.2315 - accuracy: 0.9250\n",
            "Epoch 91/200\n",
            "24/24 [==============================] - 0s 1ms/step - loss: 0.2784 - accuracy: 0.8917\n",
            "Epoch 92/200\n",
            "24/24 [==============================] - 0s 1ms/step - loss: 0.2130 - accuracy: 0.9167\n",
            "Epoch 93/200\n",
            "24/24 [==============================] - 0s 1ms/step - loss: 0.3300 - accuracy: 0.8833\n",
            "Epoch 94/200\n",
            "24/24 [==============================] - 0s 1ms/step - loss: 0.3229 - accuracy: 0.8917\n",
            "Epoch 95/200\n",
            "24/24 [==============================] - 0s 1ms/step - loss: 0.2828 - accuracy: 0.9250\n",
            "Epoch 96/200\n",
            "24/24 [==============================] - 0s 1ms/step - loss: 0.2661 - accuracy: 0.9167\n",
            "Epoch 97/200\n",
            "24/24 [==============================] - 0s 1ms/step - loss: 0.2960 - accuracy: 0.9083\n",
            "Epoch 98/200\n",
            "24/24 [==============================] - 0s 1ms/step - loss: 0.2782 - accuracy: 0.9083\n",
            "Epoch 99/200\n",
            "24/24 [==============================] - 0s 1ms/step - loss: 0.3698 - accuracy: 0.8667\n",
            "Epoch 100/200\n",
            "24/24 [==============================] - 0s 1ms/step - loss: 0.3157 - accuracy: 0.8833\n",
            "Epoch 101/200\n",
            "24/24 [==============================] - 0s 1ms/step - loss: 0.3490 - accuracy: 0.8917\n",
            "Epoch 102/200\n",
            "24/24 [==============================] - 0s 1ms/step - loss: 0.2230 - accuracy: 0.9417\n",
            "Epoch 103/200\n",
            "24/24 [==============================] - 0s 1ms/step - loss: 0.3519 - accuracy: 0.9000\n",
            "Epoch 104/200\n",
            "24/24 [==============================] - 0s 1ms/step - loss: 0.2435 - accuracy: 0.9250\n",
            "Epoch 105/200\n",
            "24/24 [==============================] - 0s 1ms/step - loss: 0.3133 - accuracy: 0.8833\n",
            "Epoch 106/200\n",
            "24/24 [==============================] - 0s 1ms/step - loss: 0.3568 - accuracy: 0.8583\n",
            "Epoch 107/200\n",
            "24/24 [==============================] - 0s 1ms/step - loss: 0.2707 - accuracy: 0.9167\n",
            "Epoch 108/200\n",
            "24/24 [==============================] - 0s 1ms/step - loss: 0.3173 - accuracy: 0.8917\n",
            "Epoch 109/200\n",
            "24/24 [==============================] - 0s 1ms/step - loss: 0.2114 - accuracy: 0.9417\n",
            "Epoch 110/200\n",
            "24/24 [==============================] - 0s 1ms/step - loss: 0.2419 - accuracy: 0.9250\n",
            "Epoch 111/200\n",
            "24/24 [==============================] - 0s 2ms/step - loss: 0.3026 - accuracy: 0.9000\n",
            "Epoch 112/200\n",
            "24/24 [==============================] - 0s 1ms/step - loss: 0.2486 - accuracy: 0.9083\n",
            "Epoch 113/200\n",
            "24/24 [==============================] - 0s 1ms/step - loss: 0.2129 - accuracy: 0.9417\n",
            "Epoch 114/200\n",
            "24/24 [==============================] - 0s 1ms/step - loss: 0.3397 - accuracy: 0.8750\n",
            "Epoch 115/200\n",
            "24/24 [==============================] - 0s 1ms/step - loss: 0.3632 - accuracy: 0.8667\n",
            "Epoch 116/200\n",
            "24/24 [==============================] - 0s 1ms/step - loss: 0.3748 - accuracy: 0.8667\n",
            "Epoch 117/200\n",
            "24/24 [==============================] - 0s 1ms/step - loss: 0.2807 - accuracy: 0.9083\n",
            "Epoch 118/200\n",
            "24/24 [==============================] - 0s 1ms/step - loss: 0.2327 - accuracy: 0.9167\n",
            "Epoch 119/200\n",
            "24/24 [==============================] - 0s 1ms/step - loss: 0.2155 - accuracy: 0.9250\n",
            "Epoch 120/200\n",
            "24/24 [==============================] - 0s 1ms/step - loss: 0.3507 - accuracy: 0.8833\n",
            "Epoch 121/200\n",
            "24/24 [==============================] - 0s 1ms/step - loss: 0.2223 - accuracy: 0.9333\n",
            "Epoch 122/200\n",
            "24/24 [==============================] - 0s 1ms/step - loss: 0.2190 - accuracy: 0.9417\n",
            "Epoch 123/200\n",
            "24/24 [==============================] - 0s 1ms/step - loss: 0.2390 - accuracy: 0.9167\n",
            "Epoch 124/200\n",
            "24/24 [==============================] - 0s 1ms/step - loss: 0.2792 - accuracy: 0.9417\n",
            "Epoch 125/200\n",
            "24/24 [==============================] - 0s 1ms/step - loss: 0.2540 - accuracy: 0.9083\n",
            "Epoch 126/200\n",
            "24/24 [==============================] - 0s 1ms/step - loss: 0.2485 - accuracy: 0.9333\n",
            "Epoch 127/200\n",
            "24/24 [==============================] - 0s 1ms/step - loss: 0.2878 - accuracy: 0.9083\n",
            "Epoch 128/200\n",
            "24/24 [==============================] - 0s 1ms/step - loss: 0.3141 - accuracy: 0.8833\n",
            "Epoch 129/200\n",
            "24/24 [==============================] - 0s 1ms/step - loss: 0.2529 - accuracy: 0.9083\n",
            "Epoch 130/200\n",
            "24/24 [==============================] - 0s 1ms/step - loss: 0.2855 - accuracy: 0.9083\n",
            "Epoch 131/200\n",
            "24/24 [==============================] - 0s 2ms/step - loss: 0.1830 - accuracy: 0.9500\n",
            "Epoch 132/200\n",
            "24/24 [==============================] - 0s 1ms/step - loss: 0.1935 - accuracy: 0.9500\n",
            "Epoch 133/200\n",
            "24/24 [==============================] - 0s 1ms/step - loss: 0.3182 - accuracy: 0.8583\n",
            "Epoch 134/200\n",
            "24/24 [==============================] - 0s 1ms/step - loss: 0.2772 - accuracy: 0.9083\n",
            "Epoch 135/200\n",
            "24/24 [==============================] - 0s 1ms/step - loss: 0.1883 - accuracy: 0.9500\n",
            "Epoch 136/200\n",
            "24/24 [==============================] - 0s 2ms/step - loss: 0.3249 - accuracy: 0.8917\n",
            "Epoch 137/200\n",
            "24/24 [==============================] - 0s 1ms/step - loss: 0.2351 - accuracy: 0.9417\n",
            "Epoch 138/200\n",
            "24/24 [==============================] - 0s 1ms/step - loss: 0.3420 - accuracy: 0.8833\n",
            "Epoch 139/200\n",
            "24/24 [==============================] - 0s 2ms/step - loss: 0.2821 - accuracy: 0.9000\n",
            "Epoch 140/200\n",
            "24/24 [==============================] - 0s 1ms/step - loss: 0.3301 - accuracy: 0.8750\n",
            "Epoch 141/200\n",
            "24/24 [==============================] - 0s 1ms/step - loss: 0.2283 - accuracy: 0.9417\n",
            "Epoch 142/200\n",
            "24/24 [==============================] - 0s 1ms/step - loss: 0.3659 - accuracy: 0.8583\n",
            "Epoch 143/200\n",
            "24/24 [==============================] - 0s 1ms/step - loss: 0.3350 - accuracy: 0.8833\n",
            "Epoch 144/200\n",
            "24/24 [==============================] - 0s 1ms/step - loss: 0.3397 - accuracy: 0.8583\n",
            "Epoch 145/200\n",
            "24/24 [==============================] - 0s 1ms/step - loss: 0.2256 - accuracy: 0.9417\n",
            "Epoch 146/200\n",
            "24/24 [==============================] - 0s 1ms/step - loss: 0.2639 - accuracy: 0.9333\n",
            "Epoch 147/200\n",
            "24/24 [==============================] - 0s 2ms/step - loss: 0.3019 - accuracy: 0.9167\n",
            "Epoch 148/200\n",
            "24/24 [==============================] - 0s 1ms/step - loss: 0.2546 - accuracy: 0.9000\n",
            "Epoch 149/200\n",
            "24/24 [==============================] - 0s 1ms/step - loss: 0.3099 - accuracy: 0.9083\n",
            "Epoch 150/200\n",
            "24/24 [==============================] - 0s 1ms/step - loss: 0.2762 - accuracy: 0.9083\n",
            "Epoch 151/200\n",
            "24/24 [==============================] - 0s 1ms/step - loss: 0.2168 - accuracy: 0.9417\n",
            "Epoch 152/200\n",
            "24/24 [==============================] - 0s 1ms/step - loss: 0.2586 - accuracy: 0.9000\n",
            "Epoch 153/200\n",
            "24/24 [==============================] - 0s 1ms/step - loss: 0.2689 - accuracy: 0.9250\n",
            "Epoch 154/200\n",
            "24/24 [==============================] - 0s 1ms/step - loss: 0.3569 - accuracy: 0.8750\n",
            "Epoch 155/200\n",
            "24/24 [==============================] - 0s 1ms/step - loss: 0.2683 - accuracy: 0.9083\n",
            "Epoch 156/200\n",
            "24/24 [==============================] - 0s 1ms/step - loss: 0.1668 - accuracy: 0.9500\n",
            "Epoch 157/200\n",
            "24/24 [==============================] - 0s 2ms/step - loss: 0.2769 - accuracy: 0.9250\n",
            "Epoch 158/200\n",
            "24/24 [==============================] - 0s 1ms/step - loss: 0.2280 - accuracy: 0.9333\n",
            "Epoch 159/200\n",
            "24/24 [==============================] - 0s 2ms/step - loss: 0.2629 - accuracy: 0.9167\n",
            "Epoch 160/200\n",
            "24/24 [==============================] - 0s 1ms/step - loss: 0.2752 - accuracy: 0.9167\n",
            "Epoch 161/200\n",
            "24/24 [==============================] - 0s 1ms/step - loss: 0.1740 - accuracy: 0.9583\n",
            "Epoch 162/200\n",
            "24/24 [==============================] - 0s 1ms/step - loss: 0.2998 - accuracy: 0.8750\n",
            "Epoch 163/200\n",
            "24/24 [==============================] - 0s 1ms/step - loss: 0.2021 - accuracy: 0.9250\n",
            "Epoch 164/200\n",
            "24/24 [==============================] - 0s 1ms/step - loss: 0.2651 - accuracy: 0.9250\n",
            "Epoch 165/200\n",
            "24/24 [==============================] - 0s 2ms/step - loss: 0.2525 - accuracy: 0.9167\n",
            "Epoch 166/200\n",
            "24/24 [==============================] - 0s 1ms/step - loss: 0.2387 - accuracy: 0.9250\n",
            "Epoch 167/200\n",
            "24/24 [==============================] - 0s 1ms/step - loss: 0.2857 - accuracy: 0.8917\n",
            "Epoch 168/200\n",
            "24/24 [==============================] - 0s 1ms/step - loss: 0.3234 - accuracy: 0.8833\n",
            "Epoch 169/200\n",
            "24/24 [==============================] - 0s 1ms/step - loss: 0.2434 - accuracy: 0.9250\n",
            "Epoch 170/200\n",
            "24/24 [==============================] - 0s 1ms/step - loss: 0.2675 - accuracy: 0.9083\n",
            "Epoch 171/200\n",
            "24/24 [==============================] - 0s 1ms/step - loss: 0.2201 - accuracy: 0.9417\n",
            "Epoch 172/200\n",
            "24/24 [==============================] - 0s 1ms/step - loss: 0.2306 - accuracy: 0.9333\n",
            "Epoch 173/200\n",
            "24/24 [==============================] - 0s 1ms/step - loss: 0.2682 - accuracy: 0.9167\n",
            "Epoch 174/200\n",
            "24/24 [==============================] - 0s 1ms/step - loss: 0.4311 - accuracy: 0.8417\n",
            "Epoch 175/200\n",
            "24/24 [==============================] - 0s 1ms/step - loss: 0.2851 - accuracy: 0.9000\n",
            "Epoch 176/200\n",
            "24/24 [==============================] - 0s 1ms/step - loss: 0.2712 - accuracy: 0.9083\n",
            "Epoch 177/200\n",
            "24/24 [==============================] - 0s 1ms/step - loss: 0.2340 - accuracy: 0.9083\n",
            "Epoch 178/200\n",
            "24/24 [==============================] - 0s 1ms/step - loss: 0.3337 - accuracy: 0.8750\n",
            "Epoch 179/200\n",
            "24/24 [==============================] - 0s 1ms/step - loss: 0.2937 - accuracy: 0.8917\n",
            "Epoch 180/200\n",
            "24/24 [==============================] - 0s 1ms/step - loss: 0.2576 - accuracy: 0.8917\n",
            "Epoch 181/200\n",
            "24/24 [==============================] - 0s 1ms/step - loss: 0.2852 - accuracy: 0.9167\n",
            "Epoch 182/200\n",
            "24/24 [==============================] - 0s 1ms/step - loss: 0.2318 - accuracy: 0.9250\n",
            "Epoch 183/200\n",
            "24/24 [==============================] - 0s 1ms/step - loss: 0.2598 - accuracy: 0.9083\n",
            "Epoch 184/200\n",
            "24/24 [==============================] - 0s 1ms/step - loss: 0.3333 - accuracy: 0.8750\n",
            "Epoch 185/200\n",
            "24/24 [==============================] - 0s 1ms/step - loss: 0.3371 - accuracy: 0.8583\n",
            "Epoch 186/200\n",
            "24/24 [==============================] - 0s 1ms/step - loss: 0.2022 - accuracy: 0.9417\n",
            "Epoch 187/200\n",
            "24/24 [==============================] - 0s 1ms/step - loss: 0.2460 - accuracy: 0.9167\n",
            "Epoch 188/200\n",
            "24/24 [==============================] - 0s 1ms/step - loss: 0.1979 - accuracy: 0.9333\n",
            "Epoch 189/200\n",
            "24/24 [==============================] - 0s 1ms/step - loss: 0.4015 - accuracy: 0.8833\n",
            "Epoch 190/200\n",
            "24/24 [==============================] - 0s 1ms/step - loss: 0.3314 - accuracy: 0.9000\n",
            "Epoch 191/200\n",
            "24/24 [==============================] - 0s 2ms/step - loss: 0.2687 - accuracy: 0.9250\n",
            "Epoch 192/200\n",
            "24/24 [==============================] - 0s 1ms/step - loss: 0.2809 - accuracy: 0.9083\n",
            "Epoch 193/200\n",
            "24/24 [==============================] - 0s 2ms/step - loss: 0.2989 - accuracy: 0.9000\n",
            "Epoch 194/200\n",
            "24/24 [==============================] - 0s 1ms/step - loss: 0.2986 - accuracy: 0.8833\n",
            "Epoch 195/200\n",
            "24/24 [==============================] - 0s 1ms/step - loss: 0.1992 - accuracy: 0.9333\n",
            "Epoch 196/200\n",
            "24/24 [==============================] - 0s 1ms/step - loss: 0.3908 - accuracy: 0.8917\n",
            "Epoch 197/200\n",
            "24/24 [==============================] - 0s 1ms/step - loss: 0.2691 - accuracy: 0.9083\n",
            "Epoch 198/200\n",
            "24/24 [==============================] - 0s 1ms/step - loss: 0.2644 - accuracy: 0.9333\n",
            "Epoch 199/200\n",
            "24/24 [==============================] - 0s 1ms/step - loss: 0.2784 - accuracy: 0.9167\n",
            "Epoch 200/200\n",
            "24/24 [==============================] - 0s 1ms/step - loss: 0.2500 - accuracy: 0.9250\n"
          ],
          "name": "stdout"
        },
        {
          "output_type": "execute_result",
          "data": {
            "text/plain": [
              "<tensorflow.python.keras.callbacks.History at 0x7fe1f4b12150>"
            ]
          },
          "metadata": {
            "tags": []
          },
          "execution_count": 25
        }
      ]
    },
    {
      "cell_type": "markdown",
      "metadata": {
        "id": "ALXUboNnHgtx"
      },
      "source": [
        "# <div style=\"direction:rtl;text-align:right;font-family:B Lotus, B Nazanin, Tahoma\">سوال 4:</div>\n",
        "<div style=\"direction:rtl;text-align:right;font-family:Tahoma\">\n",
        "مدل را روی داده های test ارزیابی کنید.\n",
        "<br>\n",
        "<b>راهنمایی: </b>\n",
        "از تابع model.evaluate استفاده کنید.\n",
        "</div>"
      ]
    },
    {
      "cell_type": "code",
      "metadata": {
        "colab": {
          "base_uri": "https://localhost:8080/"
        },
        "id": "yhjJYUI9Hgtx",
        "outputId": "1c713bea-7272-4017-fff4-e56f773ec75a"
      },
      "source": [
        "# Test on unseen data\n",
        "results = model.evaluate(test_x, test_y)\n",
        "\n",
        "print('Final test set loss: {:4f}'.format(results[0]))\n",
        "print('Final test set accuracy: {:4f}'.format(results[1]))"
      ],
      "execution_count": 24,
      "outputs": [
        {
          "output_type": "stream",
          "text": [
            "1/1 [==============================] - 0s 13ms/step - loss: 0.1440 - accuracy: 0.9333\n",
            "Final test set loss: 0.144008\n",
            "Final test set accuracy: 0.933333\n"
          ],
          "name": "stdout"
        }
      ]
    },
    {
      "cell_type": "markdown",
      "metadata": {
        "id": "CHly1OfBHgtx"
      },
      "source": [
        "<div class=\"alert alert-block alert-info\">\n",
        "<div style=\"direction:rtl;text-align:right;font-family:B Lotus, B Nazanin, Tahoma\"> دوره مقدماتی یادگیری عمیق<br>علیرضا اخوان پور<br>پنج شنبه، ۱۸ و ۲۵ بهمن ۱۳۹۷<br>\n",
        "</div>\n",
        "<a href=\"http://class.vision\">Class.Vision</a> - <a href=\"http://AkhavanPour.ir\">AkhavanPour.ir</a> - <a href=\"https://github.com/Alireza-Akhavan/\">GitHub</a>\n",
        "\n",
        "</div>"
      ]
    }
  ]
}