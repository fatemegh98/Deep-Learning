{
  "nbformat": 4,
  "nbformat_minor": 0,
  "metadata": {
    "accelerator": "GPU",
    "colab": {
      "name": "ex2_conv_cifar10_in_colab.ipynb",
      "provenance": [],
      "collapsed_sections": []
    },
    "kernelspec": {
      "display_name": "tensorflow",
      "language": "python",
      "name": "tensorflow"
    },
    "language_info": {
      "codemirror_mode": {
        "name": "ipython",
        "version": 3
      },
      "file_extension": ".py",
      "mimetype": "text/x-python",
      "name": "python",
      "nbconvert_exporter": "python",
      "pygments_lexer": "ipython3",
      "version": "3.6.8"
    }
  },
  "cells": [
    {
      "cell_type": "markdown",
      "metadata": {
        "id": "W6Ay1q4NqA-O"
      },
      "source": [
        "<center><div style=\"direction:rtl;font-family:B Lotus, B Nazanin, Tahoma\">به نام خدا</div></center>\n",
        "\n",
        "<h1><center><div style=\"direction:rtl;font-family:B Lotus, B Nazanin, Tahoma\">تمرین عملی 2: طبقه بندی تصاویر Cifar10 با شبکه های کانولوشنالی روی googleColab</div></center></h1>\n",
        "\n",
        "[![Run in Google Colab](./images/colab.png)](https://colab.research.google.com/github/alireza-akhavan/SRU-deeplearning-workshop/blob/master/homework/ex2-conv-cifar10-in-colab.ipynb)"
      ]
    },
    {
      "cell_type": "markdown",
      "metadata": {
        "id": "qcoLpU6IqA-R"
      },
      "source": [
        "## <div style=\"direction:rtl;text-align:right;font-family:B Lotus, B Nazanin, Tahoma\">صورت مساله</div>\n",
        "\n",
        "\n",
        "<div style=\"direction:rtl;text-align:right;font-family:Tahoma\">\n",
        "با شبکه های کانولوشنالی آشنا شدیم<br>\n",
        "توصیه می‌شود حتما بعد از تمرین اول این تمرین را حل کنید و قبل از این تمرین نوت بوک زیر را  مرور کنید:\n",
        "</div>\n",
        "\n",
        "[06_ConvolutionalNeuralNetwork-Hoda-Keras.ipynb ](https://nbviewer.jupyter.org/github/alireza-akhavan/SRU-deeplearning-workshop/blob/master/06_ConvolutionalNeuralNetwork-Hoda-Keras.ipynb)\n",
        "\n",
        "<div style=\"direction:rtl;text-align:right;font-family:Tahoma\">\n",
        "در این تمرین از مجموعه داده تصویری cifar10 استفاده خواهیم کرد. \n",
        "<br>\n",
        "خیلی از اوقات ممکنه دسترسی به GPU نداشته باشیم. حخوشبختانه سرویس های آنلاین و رایگانی هستند که توان محاسباتی رایگان در اختیارمان میگذراند. در این تمرین از شما خواسته شده که این نوت بوک را در گوگل کولب اجرا کنید.\n",
        "<br>\n",
        " قبلا در مورد گوگل کولب دو پست آموزشی نوشته شده است که در صورت تمایل به کسب اطلاعات بیشتر میتوانید بخوانید.\n",
        "    اما برای اجرا این تمرین نیازی به این جزئیات نخواهید داشت.\n",
        "</div>\n",
        "\n",
        "[آشنایی با سرویس ابری Google Colab ](http://blog.class.vision/1397/02/google-colab/)\n",
        "\n",
        "[اتصال مستقیم سرویس کولب (Google Colab) به درایو (Google Drive) از طریق فایل سیستم FUSE ](http://blog.class.vision/1397/04/%D8%A7%D8%AA%D8%B5%D8%A7%D9%84-%D9%85%D8%B3%D8%AA%D9%82%DB%8C%D9%85-%D8%B3%D8%B1%D9%88%DB%8C%D8%B3-%DA%A9%D9%88%D9%84%D8%A8-google-colab-%D8%A8%D9%87-%D8%AF%D8%B1%D8%A7%DB%8C%D9%88-google-drive/)\n"
      ]
    },
    {
      "cell_type": "markdown",
      "metadata": {
        "id": "IAtDyGzVqA-T"
      },
      "source": [
        "## <div style=\"direction:rtl;text-align:right;font-family:B Lotus, B Nazanin, Tahoma\">لود کتابخانه های مورد نیاز </div>\n",
        "<div style=\"direction:rtl;text-align:right;font-family:Tahoma\">\n",
        "کتابخانه های مورد نیاز این تمرین لود شده اند\n",
        "<br>\n",
        "در صورت نیاز میتوانید کتابخانه های بیشتری لود کنید:\n",
        "</div>"
      ]
    },
    {
      "cell_type": "code",
      "metadata": {
        "id": "vr5Jj-ITqA-T"
      },
      "source": [
        "import keras\n",
        "from keras.models import Sequential\n",
        "from keras.layers import Dense, Activation, Flatten, Dropout\n",
        "from keras.layers import Conv2D, MaxPooling2D\n",
        "from keras import layers\n",
        "from keras.layers.normalization import BatchNormalization\n",
        "from keras.datasets import cifar10\n",
        "import tensorflow as tf\n",
        "import numpy as np\n",
        "from keras.regularizers import l2\n",
        "import matplotlib.pyplot as plt\n",
        "%matplotlib inline"
      ],
      "execution_count": null,
      "outputs": []
    },
    {
      "cell_type": "markdown",
      "metadata": {
        "id": "CpWof3XhqA-U"
      },
      "source": [
        "## <div style=\"direction:rtl;text-align:right;font-family:B Lotus, B Nazanin, Tahoma\">مجموعه داده ی Cifar10 </div>\n",
        "<div style=\"direction:rtl;text-align:right;font-family:Tahoma\">\n",
        "<br>\n",
        "این مجموعه داده تصاویر رنگی در اندازه ی 32 در 32 و در 10 کلاس مختلف شامل ماشین، کامیون، اسب و ... است که در چارچوب کراس موجود است و از همان استفاده میکنیم.\n",
        "<br>\n",
        "اطلاعات بیشتر در مورد این مجموعه داده را از سایت این مجموعه داده میتوانید مطالعه کنید:\n",
        "<br>\n",
        "</div>\n",
        "\n",
        "https://www.cs.toronto.edu/~kriz/cifar.html"
      ]
    },
    {
      "cell_type": "code",
      "metadata": {
        "colab": {
          "base_uri": "https://localhost:8080/"
        },
        "id": "9UtdvMcOqA-V",
        "outputId": "442fd75c-0b4c-4191-9fde-19623392d2d2"
      },
      "source": [
        "(x_train, y_train), (x_test, y_test) = cifar10.load_data()"
      ],
      "execution_count": null,
      "outputs": [
        {
          "output_type": "stream",
          "text": [
            "Downloading data from https://www.cs.toronto.edu/~kriz/cifar-10-python.tar.gz\n",
            "170500096/170498071 [==============================] - 3s 0us/step\n"
          ],
          "name": "stdout"
        }
      ]
    },
    {
      "cell_type": "markdown",
      "metadata": {
        "id": "SXPIXXnoqA-W"
      },
      "source": [
        "## <div style=\"direction:rtl;text-align:right;font-family:B Lotus, B Nazanin, Tahoma\">نگاهی به مجموعه داده بیندازیم...</div>\n",
        "<div style=\"direction:rtl;text-align:right;font-family:Tahoma\">\n",
        "در زیر تصویری که در اندیس 7-ام این مجموعه داده قرار دارد را مشاهده می‌کنیم. این شماره را را به دلخوه عوض کنید و چند تصویر دیگر این مجموعه داده را ببینید.\n",
        "</div>\n"
      ]
    },
    {
      "cell_type": "code",
      "metadata": {
        "colab": {
          "base_uri": "https://localhost:8080/",
          "height": 284
        },
        "id": "ddjWtgCVqA-W",
        "outputId": "8008aa6a-d24c-4683-ed6e-1d5967a71fde"
      },
      "source": [
        "plt.imshow(x_train[23])"
      ],
      "execution_count": null,
      "outputs": [
        {
          "output_type": "execute_result",
          "data": {
            "text/plain": [
              "<matplotlib.image.AxesImage at 0x7fbda2b984d0>"
            ]
          },
          "metadata": {
            "tags": []
          },
          "execution_count": 35
        },
        {
          "output_type": "display_data",
          "data": {
            "image/png": "[encoded data removed]",
            "text/plain": [
              "<Figure size 432x288 with 1 Axes>"
            ]
          },
          "metadata": {
            "tags": []
          }
        }
      ]
    },
    {
      "cell_type": "code",
      "metadata": {
        "colab": {
          "base_uri": "https://localhost:8080/"
        },
        "id": "TvsRUoZDrftr",
        "outputId": "ea780f94-fe7e-4fe9-ff69-1530a408ce07"
      },
      "source": [
        "x_train.shape"
      ],
      "execution_count": null,
      "outputs": [
        {
          "output_type": "execute_result",
          "data": {
            "text/plain": [
              "(50000, 32, 32, 3)"
            ]
          },
          "metadata": {
            "tags": []
          },
          "execution_count": 36
        }
      ]
    },
    {
      "cell_type": "markdown",
      "metadata": {
        "id": "zD2nvRhcqA-X"
      },
      "source": [
        "# <div style=\"direction:rtl;text-align:right;font-family:B Lotus, B Nazanin, Tahoma\">سوال 1:</div>\n",
        "<div style=\"direction:rtl;text-align:right;font-family:Tahoma\">\n",
        "ماتریس های تصویر را تبدیل به نوع داده ای float32 کنید و مقادیر پیکسل ها را نرمال کنید و بین 0 و 1 بیاورید.\n",
        "<br>\n",
        "<b>راهنمایی: </b>\n",
        "شما باید متد astype را صدا بزنید و در نهایت مقادیر پیکسل ها را تقسیم بر 255 کنید.</div>"
      ]
    },
    {
      "cell_type": "code",
      "metadata": {
        "id": "2fSSCYECqA-X"
      },
      "source": [
        "x_train = np.array(x_train)\n",
        "x_test = np.array(x_test)\n",
        "x_train = x_train.astype('float32')\n",
        "x_test = x_test.astype('float32')\n",
        "x_train /= 255\n",
        "x_test /= 255"
      ],
      "execution_count": null,
      "outputs": []
    },
    {
      "cell_type": "markdown",
      "metadata": {
        "id": "JYLDjG4xqA-Y"
      },
      "source": [
        "# <div style=\"direction:rtl;text-align:right;font-family:B Lotus, B Nazanin, Tahoma\">سوال 2:</div>\n",
        "<div style=\"direction:rtl;text-align:right;font-family:Tahoma\">\n",
        "همان طور که میبینید لیبل ها از نوع عددی هستند. آن ها را تبدیل به فرمت one-hot کنید.<br>\n",
        "</div>\n"
      ]
    },
    {
      "cell_type": "markdown",
      "metadata": {
        "id": "Yb210lYmqA-Y"
      },
      "source": [
        "<hr>\n",
        "<div style=\"direction:rtl;text-align:right;font-family:Tahoma\">\n",
        "تعدادی از لیبل ها قبل از تبدیل به فرمت one-hot:</div>"
      ]
    },
    {
      "cell_type": "code",
      "metadata": {
        "colab": {
          "base_uri": "https://localhost:8080/"
        },
        "id": "o0saCliqqA-Y",
        "outputId": "66e97f08-0309-414c-c6e7-44c48bd27796"
      },
      "source": [
        "y_train[0:10]"
      ],
      "execution_count": null,
      "outputs": [
        {
          "output_type": "execute_result",
          "data": {
            "text/plain": [
              "array([[6],\n",
              "       [9],\n",
              "       [9],\n",
              "       [4],\n",
              "       [1],\n",
              "       [1],\n",
              "       [2],\n",
              "       [7],\n",
              "       [8],\n",
              "       [3]], dtype=uint8)"
            ]
          },
          "metadata": {
            "tags": []
          },
          "execution_count": 38
        }
      ]
    },
    {
      "cell_type": "code",
      "metadata": {
        "id": "UBVp_59iqA-Z"
      },
      "source": [
        "y_train = keras.utils.to_categorical(y_train, num_classes=10)\n",
        "y_test = keras.utils.to_categorical(y_test, num_classes=10)"
      ],
      "execution_count": null,
      "outputs": []
    },
    {
      "cell_type": "markdown",
      "metadata": {
        "id": "00zUzbsHqA-Z"
      },
      "source": [
        "<div style=\"direction:rtl;text-align:right;font-family:Tahoma\">\n",
        "تعدادی از لیبل ها بعد از تبدیل به فرمت one-hot:</div>"
      ]
    },
    {
      "cell_type": "code",
      "metadata": {
        "colab": {
          "base_uri": "https://localhost:8080/"
        },
        "id": "OpWLDiF4qA-Z",
        "outputId": "66a688dd-9efe-47e7-de75-ca77feb0293f"
      },
      "source": [
        "y_train[0:10]"
      ],
      "execution_count": null,
      "outputs": [
        {
          "output_type": "execute_result",
          "data": {
            "text/plain": [
              "array([[0., 0., 0., 0., 0., 0., 1., 0., 0., 0.],\n",
              "       [0., 0., 0., 0., 0., 0., 0., 0., 0., 1.],\n",
              "       [0., 0., 0., 0., 0., 0., 0., 0., 0., 1.],\n",
              "       [0., 0., 0., 0., 1., 0., 0., 0., 0., 0.],\n",
              "       [0., 1., 0., 0., 0., 0., 0., 0., 0., 0.],\n",
              "       [0., 1., 0., 0., 0., 0., 0., 0., 0., 0.],\n",
              "       [0., 0., 1., 0., 0., 0., 0., 0., 0., 0.],\n",
              "       [0., 0., 0., 0., 0., 0., 0., 1., 0., 0.],\n",
              "       [0., 0., 0., 0., 0., 0., 0., 0., 1., 0.],\n",
              "       [0., 0., 0., 1., 0., 0., 0., 0., 0., 0.]], dtype=float32)"
            ]
          },
          "metadata": {
            "tags": []
          },
          "execution_count": 40
        }
      ]
    },
    {
      "cell_type": "markdown",
      "metadata": {
        "id": "NLUYMBFcqA-a"
      },
      "source": [
        "# <div style=\"direction:rtl;text-align:right;font-family:B Lotus, B Nazanin, Tahoma\">سوال 3:</div>\n",
        "<div style=\"direction:rtl;text-align:right;font-family:Tahoma\">\n",
        "یک شبکه کانولوشنالی با معماری زیر بسازید:\n",
        "<ul>\n",
        "    <li>\n",
        "    یک لایه کانولوشنی با32 فیلتر با سایز فیلتر 3x3 و تابع فعالیت relu\n",
        "    </li>\n",
        "    <li>\n",
        "    لایه ی pooling با pool_size=(2,2)\n",
        "    </li>\n",
        "    <li>\n",
        "    یک لایه کانولوشنی با32 فیلتر با سایز فیلتر 3x3 و تابع فعالیت relu\n",
        "    </li>\n",
        "    <li>\n",
        "    لایه ی pooling با pool_size=(2,2)\n",
        "    </li>\n",
        "    <li>\n",
        "    یک لایه کانولوشنی با64 فیلتر با سایز فیلتر 3x3 و تابع فعالیت relu\n",
        "    </li>\n",
        "    <li>\n",
        "    لایه ی pooling با pool_size=(2,2)\n",
        "    </li>\n",
        "    <li>\n",
        "    استفاده از لایه ی Flatten() . به نظرتون چرا؟\n",
        "    </li>    \n",
        "    <li>\n",
        "    یک لایه Dropout با ترخ 0.5.\n",
        "    </li>\n",
        "    <li>\n",
        "    یک لایه softmax برای احتمالات خروجی. به نظرتون این لایه چند نوران میخواهد؟\n",
        "    </li>    \n",
        " \n",
        "</ul>\n",
        "</div>\n"
      ]
    },
    {
      "cell_type": "code",
      "metadata": {
        "id": "JgAo8QKq8nl7"
      },
      "source": [
        "#Question 3\r\n",
        "model = Sequential()\r\n",
        "model.add(layers.Conv2D(32, (3, 3), activation='relu', input_shape=(32, 32, 3)))\r\n",
        "model.add(layers.MaxPooling2D((2, 2)))\r\n",
        "model.add(layers.Conv2D(32, (3, 3), activation='relu'))\r\n",
        "model.add(layers.MaxPooling2D((2, 2)))\r\n",
        "model.add(layers.Conv2D(64, (3, 3), activation='relu'))\r\n",
        "model.add(layers.MaxPooling2D((2, 2)))\r\n",
        "model.add(layers.Flatten())\r\n",
        "model.add(Dropout(0.5))\r\n",
        "model.add(layers.Dense(10, activation='softmax'))"
      ],
      "execution_count": null,
      "outputs": []
    },
    {
      "cell_type": "code",
      "metadata": {
        "id": "JH-2He6UqA-a"
      },
      "source": [
        "#Question 6\n",
        "model = Sequential()\n",
        "model.add(layers.Conv2D(32, (3, 3), activation='relu', input_shape=(32, 32, 3), padding='same'))\n",
        "model.add(layers.Conv2D(32, (3, 3), activation='relu' ))\n",
        "model.add(layers.MaxPooling2D((2, 2)))\n",
        "model.add(Dropout(0.25))\n",
        "\n",
        "\n",
        "model.add(layers.Conv2D(64, (3, 3), activation='relu', padding='same'))\n",
        "\n",
        "model.add(layers.MaxPooling2D((2, 2)))\n",
        "model.add(Dropout(0.25))\n",
        "\n",
        "\n",
        "model.add(layers.Flatten())\n",
        "model.add(Dense(512, activation = \"relu\"))\n",
        "model.add(Dropout(0.5))\n",
        "model.add(layers.Dense(10, activation='softmax'))\n"
      ],
      "execution_count": 68,
      "outputs": []
    },
    {
      "cell_type": "code",
      "metadata": {
        "colab": {
          "base_uri": "https://localhost:8080/"
        },
        "id": "6HyKzzLOuJBc",
        "outputId": "a7309a45-31a0-4f66-8254-caf75db8f2af"
      },
      "source": [
        "model.summary()"
      ],
      "execution_count": 69,
      "outputs": [
        {
          "output_type": "stream",
          "text": [
            "Model: \"sequential_22\"\n",
            "_________________________________________________________________\n",
            "Layer (type)                 Output Shape              Param #   \n",
            "=================================================================\n",
            "conv2d_78 (Conv2D)           (None, 32, 32, 32)        896       \n",
            "_________________________________________________________________\n",
            "conv2d_79 (Conv2D)           (None, 30, 30, 32)        9248      \n",
            "_________________________________________________________________\n",
            "max_pooling2d_54 (MaxPooling (None, 15, 15, 32)        0         \n",
            "_________________________________________________________________\n",
            "dropout_36 (Dropout)         (None, 15, 15, 32)        0         \n",
            "_________________________________________________________________\n",
            "conv2d_80 (Conv2D)           (None, 15, 15, 64)        18496     \n",
            "_________________________________________________________________\n",
            "max_pooling2d_55 (MaxPooling (None, 7, 7, 64)          0         \n",
            "_________________________________________________________________\n",
            "dropout_37 (Dropout)         (None, 7, 7, 64)          0         \n",
            "_________________________________________________________________\n",
            "flatten_21 (Flatten)         (None, 3136)              0         \n",
            "_________________________________________________________________\n",
            "dense_39 (Dense)             (None, 512)               1606144   \n",
            "_________________________________________________________________\n",
            "dropout_38 (Dropout)         (None, 512)               0         \n",
            "_________________________________________________________________\n",
            "dense_40 (Dense)             (None, 10)                5130      \n",
            "=================================================================\n",
            "Total params: 1,639,914\n",
            "Trainable params: 1,639,914\n",
            "Non-trainable params: 0\n",
            "_________________________________________________________________\n"
          ],
          "name": "stdout"
        }
      ]
    },
    {
      "cell_type": "markdown",
      "metadata": {
        "id": "Tn1MApMWqA-b"
      },
      "source": [
        "# <div style=\"direction:rtl;text-align:right;font-family:B Lotus, B Nazanin, Tahoma\">سوال 4:</div>\n",
        "<div style=\"direction:rtl;text-align:right;font-family:Tahoma\">\n",
        "مدل را کامپایل کنید و به عنوان optimizer متغیر opt_rms به تابع ارسال کنید. </div>\n"
      ]
    },
    {
      "cell_type": "code",
      "metadata": {
        "id": "bXK5gl2yqA-b"
      },
      "source": [
        "opt_rms = tf.keras.optimizers.RMSprop(lr=0.001,decay=1e-6)\n",
        "model.compile(loss='categorical_crossentropy', optimizer=opt_rms, metrics=['accuracy'])\n"
      ],
      "execution_count": 70,
      "outputs": []
    },
    {
      "cell_type": "markdown",
      "metadata": {
        "id": "8lgQiOBZqA-b"
      },
      "source": [
        "# <div style=\"direction:rtl;text-align:right;font-family:B Lotus, B Nazanin, Tahoma\">سوال 5:</div>\n",
        "<div style=\"direction:rtl;text-align:right;font-family:Tahoma\">\n",
        "با فراخوانی متد fit روی مدل آن را آموزش بدهید. برای سادگی25 ایپاک با سایز بچ 64 بزنید. \n",
        "    <br>\n",
        " به عنوان دیتای validation نیز x_test و y_test را ارسال کنید که در هر سری کارایی روی داده های تست اعلام شود.\n",
        "</div>"
      ]
    },
    {
      "cell_type": "code",
      "metadata": {
        "colab": {
          "base_uri": "https://localhost:8080/"
        },
        "id": "C0GDwrVhqA-c",
        "outputId": "6d1f0545-dac8-4c78-b44e-cab276792601"
      },
      "source": [
        "model.fit(x_train, y_train, epochs=50, batch_size=64, validation_data = (x_test, y_test), shuffle=True)"
      ],
      "execution_count": 71,
      "outputs": [
        {
          "output_type": "stream",
          "text": [
            "Epoch 1/50\n",
            "782/782 [==============================] - 6s 7ms/step - loss: 1.7988 - accuracy: 0.3456 - val_loss: 1.2524 - val_accuracy: 0.5608\n",
            "Epoch 2/50\n",
            "782/782 [==============================] - 5s 7ms/step - loss: 1.2056 - accuracy: 0.5752 - val_loss: 1.0275 - val_accuracy: 0.6473\n",
            "Epoch 3/50\n",
            "782/782 [==============================] - 5s 7ms/step - loss: 1.0092 - accuracy: 0.6475 - val_loss: 0.9320 - val_accuracy: 0.6790\n",
            "Epoch 4/50\n",
            "782/782 [==============================] - 5s 7ms/step - loss: 0.9225 - accuracy: 0.6805 - val_loss: 0.8493 - val_accuracy: 0.7090\n",
            "Epoch 5/50\n",
            "782/782 [==============================] - 5s 7ms/step - loss: 0.8696 - accuracy: 0.7004 - val_loss: 0.8064 - val_accuracy: 0.7291\n",
            "Epoch 6/50\n",
            "782/782 [==============================] - 5s 7ms/step - loss: 0.8268 - accuracy: 0.7162 - val_loss: 0.7713 - val_accuracy: 0.7330\n",
            "Epoch 7/50\n",
            "782/782 [==============================] - 5s 7ms/step - loss: 0.8116 - accuracy: 0.7246 - val_loss: 0.9373 - val_accuracy: 0.7097\n",
            "Epoch 8/50\n",
            "782/782 [==============================] - 5s 7ms/step - loss: 0.8031 - accuracy: 0.7304 - val_loss: 0.8057 - val_accuracy: 0.7328\n",
            "Epoch 9/50\n",
            "782/782 [==============================] - 5s 7ms/step - loss: 0.7966 - accuracy: 0.7351 - val_loss: 0.7653 - val_accuracy: 0.7427\n",
            "Epoch 10/50\n",
            "782/782 [==============================] - 5s 7ms/step - loss: 0.7897 - accuracy: 0.7343 - val_loss: 0.8348 - val_accuracy: 0.7389\n",
            "Epoch 11/50\n",
            "782/782 [==============================] - 5s 7ms/step - loss: 0.7871 - accuracy: 0.7343 - val_loss: 0.7849 - val_accuracy: 0.7403\n",
            "Epoch 12/50\n",
            "782/782 [==============================] - 5s 7ms/step - loss: 0.7920 - accuracy: 0.7360 - val_loss: 0.9772 - val_accuracy: 0.6880\n",
            "Epoch 13/50\n",
            "782/782 [==============================] - 5s 7ms/step - loss: 0.7990 - accuracy: 0.7389 - val_loss: 0.8592 - val_accuracy: 0.7423\n",
            "Epoch 14/50\n",
            "782/782 [==============================] - 5s 7ms/step - loss: 0.7875 - accuracy: 0.7414 - val_loss: 0.9163 - val_accuracy: 0.7086\n",
            "Epoch 15/50\n",
            "782/782 [==============================] - 5s 7ms/step - loss: 0.7824 - accuracy: 0.7434 - val_loss: 0.9192 - val_accuracy: 0.7084\n",
            "Epoch 16/50\n",
            "782/782 [==============================] - 5s 7ms/step - loss: 0.7896 - accuracy: 0.7389 - val_loss: 0.9969 - val_accuracy: 0.6902\n",
            "Epoch 17/50\n",
            "782/782 [==============================] - 5s 7ms/step - loss: 0.8029 - accuracy: 0.7367 - val_loss: 0.7601 - val_accuracy: 0.7494\n",
            "Epoch 18/50\n",
            "782/782 [==============================] - 5s 7ms/step - loss: 0.7981 - accuracy: 0.7391 - val_loss: 1.3006 - val_accuracy: 0.6505\n",
            "Epoch 19/50\n",
            "782/782 [==============================] - 5s 7ms/step - loss: 0.8000 - accuracy: 0.7398 - val_loss: 0.7552 - val_accuracy: 0.7584\n",
            "Epoch 20/50\n",
            "782/782 [==============================] - 5s 7ms/step - loss: 0.7928 - accuracy: 0.7387 - val_loss: 0.8107 - val_accuracy: 0.7428\n",
            "Epoch 21/50\n",
            "782/782 [==============================] - 5s 7ms/step - loss: 0.7980 - accuracy: 0.7354 - val_loss: 1.0058 - val_accuracy: 0.7057\n",
            "Epoch 22/50\n",
            "782/782 [==============================] - 5s 7ms/step - loss: 0.8137 - accuracy: 0.7328 - val_loss: 0.8956 - val_accuracy: 0.7270\n",
            "Epoch 23/50\n",
            "782/782 [==============================] - 5s 7ms/step - loss: 0.7958 - accuracy: 0.7404 - val_loss: 0.8808 - val_accuracy: 0.7280\n",
            "Epoch 24/50\n",
            "782/782 [==============================] - 6s 7ms/step - loss: 0.8136 - accuracy: 0.7320 - val_loss: 0.8846 - val_accuracy: 0.7304\n",
            "Epoch 25/50\n",
            "782/782 [==============================] - 5s 7ms/step - loss: 0.8156 - accuracy: 0.7328 - val_loss: 0.9935 - val_accuracy: 0.6965\n",
            "Epoch 26/50\n",
            "782/782 [==============================] - 5s 7ms/step - loss: 0.8240 - accuracy: 0.7274 - val_loss: 1.0466 - val_accuracy: 0.6759\n",
            "Epoch 27/50\n",
            "782/782 [==============================] - 5s 7ms/step - loss: 0.8240 - accuracy: 0.7299 - val_loss: 0.9154 - val_accuracy: 0.7111\n",
            "Epoch 28/50\n",
            "782/782 [==============================] - 5s 7ms/step - loss: 0.8145 - accuracy: 0.7327 - val_loss: 0.8826 - val_accuracy: 0.7367\n",
            "Epoch 29/50\n",
            "782/782 [==============================] - 5s 7ms/step - loss: 0.8244 - accuracy: 0.7314 - val_loss: 1.2634 - val_accuracy: 0.6238\n",
            "Epoch 30/50\n",
            "782/782 [==============================] - 5s 7ms/step - loss: 0.8422 - accuracy: 0.7295 - val_loss: 0.8404 - val_accuracy: 0.7298\n",
            "Epoch 31/50\n",
            "782/782 [==============================] - 5s 7ms/step - loss: 0.8199 - accuracy: 0.7284 - val_loss: 1.0330 - val_accuracy: 0.6497\n",
            "Epoch 32/50\n",
            "782/782 [==============================] - 5s 7ms/step - loss: 0.8549 - accuracy: 0.7232 - val_loss: 0.8512 - val_accuracy: 0.7217\n",
            "Epoch 33/50\n",
            "782/782 [==============================] - 5s 7ms/step - loss: 0.8397 - accuracy: 0.7302 - val_loss: 0.9529 - val_accuracy: 0.7134\n",
            "Epoch 34/50\n",
            "782/782 [==============================] - 5s 7ms/step - loss: 0.8379 - accuracy: 0.7250 - val_loss: 0.9875 - val_accuracy: 0.6860\n",
            "Epoch 35/50\n",
            "782/782 [==============================] - 5s 7ms/step - loss: 0.8483 - accuracy: 0.7223 - val_loss: 1.1744 - val_accuracy: 0.6245\n",
            "Epoch 36/50\n",
            "782/782 [==============================] - 5s 7ms/step - loss: 0.8657 - accuracy: 0.7146 - val_loss: 0.8012 - val_accuracy: 0.7337\n",
            "Epoch 37/50\n",
            "782/782 [==============================] - 5s 7ms/step - loss: 0.8681 - accuracy: 0.7153 - val_loss: 1.1130 - val_accuracy: 0.6280\n",
            "Epoch 38/50\n",
            "782/782 [==============================] - 5s 7ms/step - loss: 0.8614 - accuracy: 0.7189 - val_loss: 0.8591 - val_accuracy: 0.7258\n",
            "Epoch 39/50\n",
            "782/782 [==============================] - 5s 7ms/step - loss: 0.8576 - accuracy: 0.7184 - val_loss: 0.7948 - val_accuracy: 0.7381\n",
            "Epoch 40/50\n",
            "782/782 [==============================] - 5s 7ms/step - loss: 0.8750 - accuracy: 0.7133 - val_loss: 1.2158 - val_accuracy: 0.6232\n",
            "Epoch 41/50\n",
            "782/782 [==============================] - 5s 7ms/step - loss: 0.8792 - accuracy: 0.7156 - val_loss: 0.8302 - val_accuracy: 0.7273\n",
            "Epoch 42/50\n",
            "782/782 [==============================] - 5s 7ms/step - loss: 0.8807 - accuracy: 0.7166 - val_loss: 0.8977 - val_accuracy: 0.7089\n",
            "Epoch 43/50\n",
            "782/782 [==============================] - 5s 7ms/step - loss: 0.8843 - accuracy: 0.7167 - val_loss: 0.9623 - val_accuracy: 0.6808\n",
            "Epoch 44/50\n",
            "782/782 [==============================] - 6s 7ms/step - loss: 0.8921 - accuracy: 0.7089 - val_loss: 0.8535 - val_accuracy: 0.7186\n",
            "Epoch 45/50\n",
            "782/782 [==============================] - 6s 7ms/step - loss: 0.8714 - accuracy: 0.7161 - val_loss: 0.7797 - val_accuracy: 0.7391\n",
            "Epoch 46/50\n",
            "782/782 [==============================] - 5s 7ms/step - loss: 0.8877 - accuracy: 0.7115 - val_loss: 0.8319 - val_accuracy: 0.7242\n",
            "Epoch 47/50\n",
            "782/782 [==============================] - 5s 7ms/step - loss: 0.9096 - accuracy: 0.7066 - val_loss: 0.7988 - val_accuracy: 0.7407\n",
            "Epoch 48/50\n",
            "782/782 [==============================] - 5s 7ms/step - loss: 0.8936 - accuracy: 0.7085 - val_loss: 1.1571 - val_accuracy: 0.6501\n",
            "Epoch 49/50\n",
            "782/782 [==============================] - 5s 7ms/step - loss: 0.9033 - accuracy: 0.7054 - val_loss: 1.0220 - val_accuracy: 0.6638\n",
            "Epoch 50/50\n",
            "782/782 [==============================] - 5s 7ms/step - loss: 0.9239 - accuracy: 0.7044 - val_loss: 0.8190 - val_accuracy: 0.7285\n"
          ],
          "name": "stdout"
        },
        {
          "output_type": "execute_result",
          "data": {
            "text/plain": [
              "<tensorflow.python.keras.callbacks.History at 0x7f5860118fd0>"
            ]
          },
          "metadata": {
            "tags": []
          },
          "execution_count": 71
        }
      ]
    },
    {
      "cell_type": "markdown",
      "metadata": {
        "id": "77eAdNPGqA-c"
      },
      "source": [
        "# <div style=\"direction:rtl;text-align:right;font-family:B Lotus, B Nazanin, Tahoma\">سوال 6:</div>\n",
        "<div style=\"direction:rtl;text-align:right;font-family:Tahoma\">\n",
        "شبکه و هایپرپارامترهای این شبکه را به هر نحوی دوست دارید تغییر دهید تا دقت روی دادگان تست را به حداکثر برسانید.\n",
        "</div>\n"
      ]
    },
    {
      "cell_type": "markdown",
      "metadata": {
        "id": "y9lG9DNCqA-c"
      },
      "source": [
        "<div class=\"alert alert-block alert-info\">\n",
        "<div style=\"direction:rtl;text-align:right;font-family:B Lotus, B Nazanin, Tahoma\"> دوره مقدماتی یادگیری عمیق<br>علیرضا اخوان پور<br>پنج شنبه، ۱۸ و ۲۵ بهمن ۱۳۹۷<br>\n",
        "</div>\n",
        "<a href=\"http://class.vision\">Class.Vision</a> - <a href=\"http://AkhavanPour.ir\">AkhavanPour.ir</a> - <a href=\"https://github.com/Alireza-Akhavan/\">GitHub</a>\n",
        "\n",
        "</div>"
      ]
    },
    {
      "cell_type": "code",
      "metadata": {
        "id": "Hrg2YLNnqA-d"
      },
      "source": [
        ""
      ],
      "execution_count": null,
      "outputs": []
    }
  ]
}